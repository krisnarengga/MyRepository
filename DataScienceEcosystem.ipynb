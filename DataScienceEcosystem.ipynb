{
  "nbformat": 4,
  "nbformat_minor": 0,
  "metadata": {
    "colab": {
      "provenance": []
    },
    "kernelspec": {
      "name": "python3",
      "display_name": "Python 3"
    },
    "language_info": {
      "name": "python"
    }
  },
  "cells": [
    {
      "cell_type": "markdown",
      "source": [
        "#Data Science Tools and Ecosystem"
      ],
      "metadata": {
        "id": "Zaq8Y6WXD0d7"
      }
    },
    {
      "cell_type": "markdown",
      "source": [
        "In this notebook, Data Science Tools and Ecosystem are summarized."
      ],
      "metadata": {
        "id": "SDchaaFRE9Jn"
      }
    },
    {
      "cell_type": "markdown",
      "source": [
        "Some of the popular languages that Data Scientists use are:\n",
        "\n",
        "\n",
        "1.   Python\n",
        "2.   R\n",
        "3.   Scala\n",
        "\n",
        "\n",
        "\n"
      ],
      "metadata": {
        "id": "y-8UXSuGFpSq"
      }
    },
    {
      "cell_type": "markdown",
      "source": [
        "Some of the commonly used libraries used by Data Scientists include:\n",
        "\n",
        "\n",
        "\n",
        "1.   Panda\n",
        "2.   Scikit-Learn\n",
        "3.   Matplotlib\n",
        "\n"
      ],
      "metadata": {
        "id": "IK0i4Nl8GH0k"
      }
    },
    {
      "cell_type": "markdown",
      "source": [
        "\n",
        "\n",
        "| Data Science Tools |\n",
        "|--------------------|\n",
        "| Jupyter Notebook   |\n",
        "| R Studio           |\n",
        "| IBM Watson Studio  |\n",
        "\n"
      ],
      "metadata": {
        "id": "tMv8SWt5G0iI"
      }
    },
    {
      "cell_type": "markdown",
      "source": [
        "**Objectives:**\n",
        "\n",
        "\n",
        "*   Create a Jupyter Notebook with markdown and code cells\n",
        "*   List examples of languages, libraries and tools used in Data Science\n",
        "*   Share your Jupyter Notebook publicly on GitHub\n",
        "*   Evaluate notebooks submitted by your peers using the provided rubric\n",
        "*   Demonstrate proficiency in Data Science toolkit knowledge\n"
      ],
      "metadata": {
        "id": "pmUpOrLALxYI"
      }
    },
    {
      "cell_type": "markdown",
      "source": [
        "##Author\n",
        "Krisna Rengga Buana"
      ],
      "metadata": {
        "id": "nFsqyh-PM0-a"
      }
    },
    {
      "cell_type": "markdown",
      "source": [
        "#Below are a few examples of evaluating arithmetic expressions in Python"
      ],
      "metadata": {
        "id": "TL6vBv55JFuv"
      }
    },
    {
      "cell_type": "code",
      "execution_count": 2,
      "metadata": {
        "colab": {
          "base_uri": "https://localhost:8080/"
        },
        "id": "fwYiMsmoDKSE",
        "outputId": "50738286-bb44-41b0-ef8b-1b1057733115"
      },
      "outputs": [
        {
          "output_type": "execute_result",
          "data": {
            "text/plain": [
              "17"
            ]
          },
          "metadata": {},
          "execution_count": 2
        }
      ],
      "source": [
        "#This a simple arithmetic expression to mutiply then add integers\n",
        "(3*4)+5"
      ]
    },
    {
      "cell_type": "code",
      "source": [
        "minutes = 200\n",
        "hours = float(minutes) / 60\n",
        "print(hours)"
      ],
      "metadata": {
        "colab": {
          "base_uri": "https://localhost:8080/"
        },
        "id": "vKGkru07KITm",
        "outputId": "67d50c87-69a8-40f4-d4f7-598b8fecf17f"
      },
      "execution_count": 5,
      "outputs": [
        {
          "output_type": "stream",
          "name": "stdout",
          "text": [
            "3.3333333333333335\n"
          ]
        }
      ]
    }
  ]
}